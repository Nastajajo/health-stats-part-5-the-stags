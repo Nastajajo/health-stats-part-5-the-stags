{
 "cells": [
  {
   "cell_type": "markdown",
   "metadata": {},
   "source": [
    "# The Stags - Health Stats Part 5"
   ]
  },
  {
   "cell_type": "markdown",
   "metadata": {},
   "source": [
    "###### Data Source : 2015 US Department of Labour "
   ]
  },
  {
   "cell_type": "markdown",
   "metadata": {},
   "source": [
    "##### Research Questions to be answered\n",
    "1. Is there a significant effect on drinking beverages other than water on BMI?\n",
    "2. Is there a significant difference in BMI between diet soda consumers and regular soda consumers?\n",
    "3. Is there a significant difference in the BMI of diet soda consumers versus global consumers minus diet soda, and regular soda consumers versus global consumers minus regular soda? \n",
    "4. Is there a significant effect on BMI for people who excercise vs people who dont?\n",
    "5. Is there a significant effect on BMI for people with excellent health condition vs others\n",
    "6. Is there a correlation between BMI and time spent eating? \n",
    "7. Is there a correlation between high BMI and Households whose income is high?\n",
    "\n",
    "\n",
    "###### Key columns in Dataset\n",
    "\n",
    "1. Body Mass Index (BMI)\n",
    "2. Diet, Regular, or Both Soda (EUDIETSODA)\n",
    "3. Cola Beverages (EUSODA)\n",
    "4. Household Income (EEINCOME1)\n",
    "5. Total amount of time spent in secondary eating (in minutes) (ERTPREAT)\n",
    "6. Excercise (EUEXCERCISE)\n",
    "7. Health condition (EUGENHTH)"
   ]
  },
  {
   "cell_type": "code",
   "execution_count": 3,
   "metadata": {
    "collapsed": true
   },
   "outputs": [],
   "source": [
    "# Package install\n",
    "%matplotlib inline \n",
    "# Import modules!\n",
    "import numpy as np\n",
    "import pandas as pd\n",
    "import matplotlib.pyplot as plt\n",
    "\n",
    "# Data import/loading!\n",
    "source_data = pd.read_csv('ehresp_2015.csv')"
   ]
  },
  {
   "cell_type": "code",
   "execution_count": 11,
   "metadata": {},
   "outputs": [
    {
     "name": "stdout",
     "output_type": "stream",
     "text": [
      "       ERBMI  EUDIETSODA  EUSODA  EEINCOME1  ERTPREAT  EUEXERCISE  EUGENHTH\n",
      "0       31.4          -1       2          1        50           1         4\n",
      "1       25.7          -1      -1          2       120           1         4\n",
      "2       29.6          -1       2          1        50           2         5\n",
      "3       23.4           2       1          3        95           1         2\n",
      "4       35.9           1       1          1       140           2         4\n",
      "5       32.1          -1      -1          1        45           1         2\n",
      "6       30.1           1       1          1       105           2         2\n",
      "7       33.9          -1      -1          1        30           1         2\n",
      "8       26.3           2       1          2        60           1         4\n",
      "9       22.6          -1      -1          1        90           1         2\n",
      "10      28.3          -1      -1          3       150           2         2\n",
      "11      22.9          -1       2          2        30           1         2\n",
      "12      -1.0          -1      -1          1        80           1         4\n",
      "13      31.4           2       1          2        35           2         3\n",
      "14      26.6          -1      -1          2       180           1         3\n",
      "15      21.8          -1       2          1       130           2         3\n",
      "16      29.5          -1       2          2       110           1         3\n",
      "17      25.1          -1       2          1        10           1         1\n",
      "18      29.3          -1       2          1        25           1         2\n",
      "19      27.9          -1       2          1       120           1         3\n",
      "20      25.3          -1      -1          1        90           2         3\n",
      "21      -1.0          -1      -1          2       315           2         1\n",
      "22      22.1           3       1          1       105           1         1\n",
      "23      22.1          -1       2          1        85           1         2\n",
      "24      28.1          -1       2         -2       155           1         2\n",
      "25      28.0          -1       2          2       135           1         4\n",
      "26      19.7          -1      -1          1        90           1         1\n",
      "27      40.5          -1       2          1        25           1         3\n",
      "28      31.2          -1      -1          2        35           1         3\n",
      "29      30.3          -1       2          1        45           1         3\n",
      "...      ...         ...     ...        ...       ...         ...       ...\n",
      "10596   23.6          -1      -1          1       240           1         2\n",
      "10597   22.9          -1       2          1        40           1         2\n",
      "10598   19.5          -1       2          2        80           1         2\n",
      "10599   25.8          -1       2          1       125           1         4\n",
      "10600   28.3          -1       2          1        80           2         2\n",
      "10601   -1.0          -1      -1          1        30           1         3\n",
      "10602   21.3          -1       2          1        50           2         2\n",
      "10603   24.5          -1       2          2        60           1         3\n",
      "10604   -1.0          -1      -1          1        75           2         1\n",
      "10605   37.1          -1       2          1       175           2         1\n",
      "10606   27.1           1       1          1        60           1         2\n",
      "10607   22.1          -1       2          1        75           1         1\n",
      "10608   29.6          -1       2          2        50           1         4\n",
      "10609   28.1           2       1          1         0           1         4\n",
      "10610   33.5          -1       2          1        30           2         2\n",
      "10611   28.3           2       1          2        75           1         2\n",
      "10612   31.5          -1       2          1       120           1         2\n",
      "10613   23.6          -1       2          1        80           1         4\n",
      "10614   21.1          -1       2          1        65           2         3\n",
      "10615   25.1          -1       2          1        10           1         2\n",
      "10616   22.9          -1      -1          2        20           2         1\n",
      "10617   30.0          -1       2          2        10           1         3\n",
      "10618   27.4          -1      -1          1        60           2         2\n",
      "10619   34.0           2       1          2         0           2         4\n",
      "10620   25.7          -1       2          1       120           2         3\n",
      "10621   26.6          -1       2          1        60           1         2\n",
      "10622   24.2          -1      -1          1        15           1         1\n",
      "10623   28.0           1       1          1        80           1         2\n",
      "10624   41.4          -1       2          1        75           1         3\n",
      "10625   34.7          -1       2          2        30           1         3\n",
      "\n",
      "[10626 rows x 7 columns]\n"
     ]
    }
   ],
   "source": [
    "#Create new DataFrame \"Results\" and add the key columns to dataset\n",
    "\n",
    "results = pd.DataFrame(source_data['ERBMI'])\n",
    "results['EUDIETSODA'] = source_data['EUDIETSODA']\n",
    "results['EUSODA'] = source_data['EUSODA']\n",
    "results['EEINCOME1'] = source_data['EEINCOME1'] \n",
    "results['ERTPREAT'] = source_data['ERTPREAT'] #Total amount of time spent in primary eating and drinking (in minutes)\n",
    "results['EUEXERCISE'] = source_data['EUEXERCISE']\n",
    "results['EUGENHTH'] = source_data['EUGENHTH']\n",
    "print(results)"
   ]
  },
  {
   "cell_type": "code",
   "execution_count": null,
   "metadata": {
    "collapsed": true
   },
   "outputs": [],
   "source": []
  }
 ],
 "metadata": {
  "kernelspec": {
   "display_name": "Python 3",
   "language": "python",
   "name": "python3"
  },
  "language_info": {
   "codemirror_mode": {
    "name": "ipython",
    "version": 3
   },
   "file_extension": ".py",
   "mimetype": "text/x-python",
   "name": "python",
   "nbconvert_exporter": "python",
   "pygments_lexer": "ipython3",
   "version": "3.6.1"
  }
 },
 "nbformat": 4,
 "nbformat_minor": 2
}
