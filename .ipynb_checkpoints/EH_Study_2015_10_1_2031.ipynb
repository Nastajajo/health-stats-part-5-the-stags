{
 "cells": [
  {
   "cell_type": "markdown",
   "metadata": {},
   "source": [
    "# The Stags - Health Stats Part 5"
   ]
  },
  {
   "cell_type": "markdown",
   "metadata": {},
   "source": [
    "###### Data Source : 2015 US Department of Labour "
   ]
  },
  {
   "cell_type": "markdown",
   "metadata": {},
   "source": [
    "##### Research Questions to be answered\n",
    "1. Is there a significant effect on drinking beverages other than water on BMI?\n",
    "2. Is there a significant difference in BMI between diet soda consumers and regular soda consumers?\n",
    "3. Is there a significant difference in the BMI of diet soda consumers versus global consumers minus diet soda, and regular soda consumers versus global consumers minus regular soda? \n",
    "4. [Next step - insert here]\n",
    "\n",
    "\n",
    "###### Key columns in Dataset\n",
    "\n",
    "1. Body Mass Index (BMI)\n",
    "2. Diet, Regular, or Both Soda (EUDIETSODA)\n",
    "3. Cola Beverages (EUSODA)"
   ]
  },
  {
   "cell_type": "markdown",
   "metadata": {},
   "source": [
    "# Russell Coonrod (203) -5125594 Russell.coonrod@student.fairfield.edu\n",
    "# Bridget Garvey (845) 325 4171    bridget.garvey@student.fairfield.edu\n",
    "# Alok Agarwal (857-260-8641)  alok.agarwal@student.fairfield.edu"
   ]
  },
  {
   "cell_type": "code",
   "execution_count": 20,
   "metadata": {},
   "outputs": [
    {
     "name": "stdout",
     "output_type": "stream",
     "text": [
      "count    10626.000000\n",
      "mean       168.873047\n",
      "std         57.596943\n",
      "min         -5.000000\n",
      "25%        140.000000\n",
      "50%        170.000000\n",
      "75%        200.000000\n",
      "max        340.000000\n",
      "Name: EUWGT, dtype: float64\n"
     ]
    }
   ],
   "source": [
    "# import python components \n",
    "import numpy as np\n",
    "import pandas as pd\n",
    "import matplotlib.pyplot as plt\n",
    "\n",
    "# raw data file name ehresp_2015.csv\n",
    "\n",
    "#import data\n",
    "rawsource_data = pd.read_csv('ehresp_2015.csv')\n",
    "\n",
    "#check imported data\n",
    "#print(rawsource_data)\n",
    "#SFSG\n",
    "\n",
    "# attempt to pull certian coulumns of data from the survey\n",
    "\n",
    "erbmi = rawsource_data.ERBMI\n",
    "#print(erbmi.value_counts())\n",
    "#sag descriptives\n",
    "#print(erbmi.describe())\n",
    "height = rawsource_data.EUHGT\n",
    "#print(height.describe())\n",
    "#height is in inches multiply by 2.54 for meter\n",
    "#check height distribution for hinky data\n",
    "#print(height.value_counts())\n",
    "weight = rawsource_data.EUWGT\n",
    "print(weight.describe())\n",
    "#check weight distribution for hinky data\n",
    "#print(weight.value_counts())\n",
    "\n",
    "\n",
    "# weight is in pounds  multiply by 0.453592\n",
    "#bmi formula 'BMI is your weight (in kilograms) over your height squared (in centimeters).'\n",
    "\n",
    "#potential flaw in data based on coding EUHGT How tall are you without shoes? (in inches) EH Respondent File\n",
    "#Valid Entries: 56 Min Value\n",
    "#77 Max Value\n",
    "#EUHGT is bottomcoded to 56 inches and topcoded to 77 inches. All those with EUGHT <\n",
    "#56 inches have EUHGT = 56 inches. All those with EUHGT > 77 inches have EUHGT =\n",
    "#77 inches. Topcoding and bottomcoding is indicated in ETHGT. \n",
    "\n",
    "#Was the soft drink diet, regular or did you have both kinds? EH Respondent File\n",
    "#Valid Entries: \n",
    "#1 Diet\n",
    "#2 Regular\n",
    "#3 Both \n",
    "\n",
    "soda = rawsource_data.EUDIETSODA\n",
    "\n",
    "#print(soda)\n",
    "#SFSG\n",
    "\n",
    "#for the coloumn drink: Not including plain water, were there any other times yesterday when you EH Respondent File\n",
    "#were drinking any beverages? 1 = yes 2 = no\n",
    "drink = rawsource_data.EUDRINK\n",
    "#print(drink)\n",
    "\n",
    "    \n",
    "\n",
    "###Pandas DataFrame to be used called 'source_data':\n",
    "#Appropriate column names, data types, and numerical indexes\n",
    "#Results to be seperate from source data, in DataFrame called 'results'\n"
   ]
  },
  {
   "cell_type": "code",
   "execution_count": 12,
   "metadata": {
    "collapsed": true
   },
   "outputs": [],
   "source": [
    "###Compare the BMIs of males vs. females\n",
    "#Calculate the BMI for each person\n",
    "#Display histogram for males in green; females in magenta\n",
    "\n",
    "\n",
    "###Complete the analysis"
   ]
  },
  {
   "cell_type": "code",
   "execution_count": null,
   "metadata": {
    "collapsed": true
   },
   "outputs": [],
   "source": []
  }
 ],
 "metadata": {
  "kernelspec": {
   "display_name": "Python 3",
   "language": "python",
   "name": "python3"
  },
  "language_info": {
   "codemirror_mode": {
    "name": "ipython",
    "version": 3
   },
   "file_extension": ".py",
   "mimetype": "text/x-python",
   "name": "python",
   "nbconvert_exporter": "python",
   "pygments_lexer": "ipython3",
   "version": "3.6.1"
  }
 },
 "nbformat": 4,
 "nbformat_minor": 2
}
