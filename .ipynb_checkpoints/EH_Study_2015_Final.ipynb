{
 "cells": [
  {
   "cell_type": "markdown",
   "metadata": {},
   "source": [
    "# The Stags - Health Stats Part 5"
   ]
  },
  {
   "cell_type": "markdown",
   "metadata": {},
   "source": [
    "###### Data Source : 2015 US Department of Labour "
   ]
  },
  {
   "cell_type": "markdown",
   "metadata": {},
   "source": [
    "##### Research Questions to be answered\n",
    "1. Is there a significant effect on drinking beverages other than water on BMI?\n",
    "2. Is there a significant difference in BMI between diet soda consumers and regular soda consumers?\n",
    "3. Is there a significant difference in the BMI of diet soda consumers versus global consumers minus diet soda, and regular soda consumers versus global consumers minus regular soda? \n",
    "4. Is there a significant effect on BMI for people who excercise vs people who dont?\n",
    "5. Is there a significant effect on BMI for people with excellent health condition vs others\n",
    "7. Is there a correlation between high BMI and Households whose income is high?\n",
    "\n",
    "\n",
    "###### Key columns in Dataset\n",
    "\n",
    "1. Body Mass Index (BMI)\n",
    "2. Diet, Regular, or Both Soda (EUDIETSODA)\n",
    "3. Cola Beverages (EUSODA)\n",
    "4. Household Income (EEINCOME1)\n",
    "6. Excercise (EUEXCERCISE)\n",
    "7. Health condition (EUGENHTH)"
   ]
  },
  {
   "cell_type": "code",
   "execution_count": 1,
   "metadata": {
    "collapsed": true
   },
   "outputs": [],
   "source": [
    "# Package install\n",
    "%matplotlib inline \n",
    "# Import modules!\n",
    "import numpy as np\n",
    "import pandas as pd\n",
    "import matplotlib.pyplot as plt\n",
    "#from sklearn.cluster import KMeans\n",
    "\n",
    "# Data import/loading!\n",
    "source_data = pd.read_csv('ehresp_2015.csv')"
   ]
  },
  {
   "cell_type": "markdown",
   "metadata": {},
   "source": [
    "###### Step 1 Import csv and create DataFrame"
   ]
  },
  {
   "cell_type": "code",
   "execution_count": 2,
   "metadata": {},
   "outputs": [],
   "source": [
    "#Create new DataFrame \"Results\" and add the key columns to dataset\n",
    "results = pd.DataFrame(source_data['ERBMI'])\n",
    "results['EUHGT'] = source_data['EUHGT'] \n",
    "results['EUWGT'] = source_data['EUWGT']\n",
    "results['EUDIETSODA'] = source_data['EUDIETSODA']\n",
    "results['EUSODA'] = source_data['EUSODA']\n",
    "results['EEINCOME1'] = source_data['EEINCOME1'] \n",
    "results['ERTPREAT'] = source_data['ERTPREAT']\n",
    "results['EUEXERCISE'] = source_data['EUEXERCISE']\n",
    "results['EUGENHTH'] = source_data['EUGENHTH']\n",
    "#print(results.describe())\n",
    "#print(source_data['ERBMI'].describe())"
   ]
  },
  {
   "cell_type": "markdown",
   "metadata": {},
   "source": [
    "###### Step 2: Clean the Data\n",
    "\n",
    "* We used a boolean to retain rows where the weight, height, and BMI were positive. \n",
    "* This is the method that the survey claimed to have utilized.\n",
    "* All rows that failed this check were rejected.\n",
    "* From the initial count of 10,626 we have culled the data to 10,071 rows"
   ]
  },
  {
   "cell_type": "code",
   "execution_count": 3,
   "metadata": {},
   "outputs": [
    {
     "name": "stdout",
     "output_type": "stream",
     "text": [
      "count    10626.000000\n",
      "mean        26.343657\n",
      "std          8.837192\n",
      "min         -1.000000\n",
      "25%         23.000000\n",
      "50%         26.400000\n",
      "75%         30.700000\n",
      "max         76.200000\n",
      "Name: ERBMI, dtype: float64\n",
      "count    10071.000000\n",
      "mean        27.850531\n",
      "std          6.238728\n",
      "min         13.300000\n",
      "25%         23.600000\n",
      "50%         26.600000\n",
      "75%         31.000000\n",
      "max         76.200000\n",
      "Name: ERBMI, dtype: float64\n"
     ]
    }
   ],
   "source": [
    "results_clean = (results[(results.EUWGT > 0) & (results.EUHGT > 0) & (results.ERBMI > 0)])\n",
    "results = results_clean\n",
    "#print(results.describe())\n",
    "print(source_data['ERBMI'].describe())\n",
    "print(results.ERBMI.describe())"
   ]
  },
  {
   "cell_type": "markdown",
   "metadata": {},
   "source": [
    "* As you can see, the survey states that the BMI has a mean of 26.34, while our \"cleaned\" data posseses a mean of 27.85.\n",
    "\n",
    "* What accounts for the difference?\n",
    "\n",
    "* The stated minimum vale for BMI from the survey is -1.\n",
    "\n",
    "* So the survey did not implement the the boolean \"EUHGT > 0 and EUWGT > 0\" as they claimed.\n",
    "\n"
   ]
  },
  {
   "cell_type": "code",
   "execution_count": 4,
   "metadata": {},
   "outputs": [
    {
     "data": {
      "image/png": "[encoded data removed]",
      "text/plain": [
       "<matplotlib.figure.Figure at 0x10636d6be0>"
      ]
     },
     "metadata": {},
     "output_type": "display_data"
    }
   ],
   "source": [
    "# a Scatter plot to show the relationship between income and BMI\n",
    "plt.scatter(results.ERTPREAT,results.ERBMI)\n",
    "plt.xlabel('Time spent in primary eating and drinking ')\n",
    "plt.ylabel('Body mass index')\n",
    "plt.show()"
   ]
  },
  {
   "cell_type": "code",
   "execution_count": 5,
   "metadata": {},
   "outputs": [
    {
     "data": {
      "image/png": "[encoded data removed]",
      "text/plain": [
       "<matplotlib.figure.Figure at 0x1066f770f0>"
      ]
     },
     "metadata": {},
     "output_type": "display_data"
    }
   ],
   "source": [
    "\n",
    "# a Scatter plot to show the relationship between income and BMI\n",
    "plt.scatter(results.EEINCOME1,results.ERBMI)\n",
    "plt.show()"
   ]
  },
  {
   "cell_type": "code",
   "execution_count": 6,
   "metadata": {},
   "outputs": [
    {
     "data": {
      "image/png": "[encoded data removed]",
      "text/plain": [
       "<matplotlib.figure.Figure at 0x1066f48550>"
      ]
     },
     "metadata": {},
     "output_type": "display_data"
    },
    {
     "data": {
      "text/html": [
       "<style  type=\"text/css\" >\n",
       "</style>  \n",
       "<table id=\"T_07cfb964_a880_11e7_9edf_38eaa7ddbe28\" > \n",
       "<thead>    <tr> \n",
       "        <th class=\"blank level0\" ></th> \n",
       "        <th class=\"col_heading level0 col0\" >Average</th> \n",
       "        <th class=\"col_heading level0 col1\" >Count</th> \n",
       "        <th class=\"col_heading level0 col2\" >Max</th> \n",
       "        <th class=\"col_heading level0 col3\" >Min</th> \n",
       "        <th class=\"col_heading level0 col4\" >Std</th> \n",
       "    </tr></thead> \n",
       "<tbody>    <tr> \n",
       "        <th id=\"T_07cfb964_a880_11e7_9edf_38eaa7ddbe28\" class=\"row_heading level0 row0\" >Both Regular and Diet Soda</th> \n",
       "        <td id=\"T_07cfb964_a880_11e7_9edf_38eaa7ddbe28row0_col0\" class=\"data row0 col0\" >30.79</td> \n",
       "        <td id=\"T_07cfb964_a880_11e7_9edf_38eaa7ddbe28row0_col1\" class=\"data row0 col1\" >72</td> \n",
       "        <td id=\"T_07cfb964_a880_11e7_9edf_38eaa7ddbe28row0_col2\" class=\"data row0 col2\" >52.7</td> \n",
       "        <td id=\"T_07cfb964_a880_11e7_9edf_38eaa7ddbe28row0_col3\" class=\"data row0 col3\" >19.5</td> \n",
       "        <td id=\"T_07cfb964_a880_11e7_9edf_38eaa7ddbe28row0_col4\" class=\"data row0 col4\" >7.27</td> \n",
       "    </tr>    <tr> \n",
       "        <th id=\"T_07cfb964_a880_11e7_9edf_38eaa7ddbe28\" class=\"row_heading level0 row1\" >Diet Soda</th> \n",
       "        <td id=\"T_07cfb964_a880_11e7_9edf_38eaa7ddbe28row1_col0\" class=\"data row1 col0\" >29.5</td> \n",
       "        <td id=\"T_07cfb964_a880_11e7_9edf_38eaa7ddbe28row1_col1\" class=\"data row1 col1\" >874</td> \n",
       "        <td id=\"T_07cfb964_a880_11e7_9edf_38eaa7ddbe28row1_col2\" class=\"data row1 col2\" >76.3</td> \n",
       "        <td id=\"T_07cfb964_a880_11e7_9edf_38eaa7ddbe28row1_col3\" class=\"data row1 col3\" >17.1</td> \n",
       "        <td id=\"T_07cfb964_a880_11e7_9edf_38eaa7ddbe28row1_col4\" class=\"data row1 col4\" >6.74</td> \n",
       "    </tr>    <tr> \n",
       "        <th id=\"T_07cfb964_a880_11e7_9edf_38eaa7ddbe28\" class=\"row_heading level0 row2\" >Regular Soda</th> \n",
       "        <td id=\"T_07cfb964_a880_11e7_9edf_38eaa7ddbe28row2_col0\" class=\"data row2 col0\" >28.31</td> \n",
       "        <td id=\"T_07cfb964_a880_11e7_9edf_38eaa7ddbe28row2_col1\" class=\"data row2 col1\" >1482</td> \n",
       "        <td id=\"T_07cfb964_a880_11e7_9edf_38eaa7ddbe28row2_col2\" class=\"data row2 col2\" >60.3</td> \n",
       "        <td id=\"T_07cfb964_a880_11e7_9edf_38eaa7ddbe28row2_col3\" class=\"data row2 col3\" >16.2</td> \n",
       "        <td id=\"T_07cfb964_a880_11e7_9edf_38eaa7ddbe28row2_col4\" class=\"data row2 col4\" >6.7</td> \n",
       "    </tr></tbody> \n",
       "</table> "
      ],
      "text/plain": [
       "<pandas.io.formats.style.Styler at 0x10674d1860>"
      ]
     },
     "execution_count": 6,
     "metadata": {},
     "output_type": "execute_result"
    }
   ],
   "source": [
    "#Diet, Regular, or Both Soda (EUDIETSODA)\n",
    "soda_diet = (results[(results.EUDIETSODA == 1)])\n",
    "#print(soda_diet.describe())\n",
    "soda_reg = (results[(results.EUDIETSODA == 2)])\n",
    "#print(soda_reg.describe())\n",
    "soda_both = (results[(results.EUDIETSODA == 3)])\n",
    "#print(soda_both.describe())\n",
    "plt.hist(soda_reg.ERBMI, bins=60, label='Regular Soda', color = 'Red' )\n",
    "plt.hist(soda_diet.ERBMI, bins =60, label='Diet Soda')\n",
    "plt.hist(soda_both.ERBMI, bins=60, label='Both Diet and Regular', color = 'yellow')\n",
    "plt.title('BMI Distribution by Soda at Three Levels')\n",
    "#plt.xlabel('Body Mass Index')\n",
    "#plt.ylabel('Frequency')\n",
    "plt.legend(loc='upper right')\n",
    "plt.show()\n",
    "\n",
    "soda = { \n",
    "    'Count':{'Diet Soda':874,'Regular Soda':1482,'Both Regular and Diet Soda': 72 },\n",
    "    'Average':{'Diet Soda':29.5,'Regular Soda':28.31, \"Both Regular and Diet Soda\":30.79},\n",
    "    \"Std\":{'Diet Soda':6.74,'Regular Soda':6.70,'Both Regular and Diet Soda':7.27},\n",
    "    'Min':{'Diet Soda':17.1,'Regular Soda':16.2,'Both Regular and Diet Soda':19.5},\n",
    "    'Max':{'Diet Soda':76.3,'Regular Soda':60.3,'Both Regular and Diet Soda':52.7}}\n",
    "\n",
    "soda_df = pd.DataFrame(soda)\n",
    "soda_df.style"
   ]
  },
  {
   "cell_type": "code",
   "execution_count": 7,
   "metadata": {},
   "outputs": [
    {
     "data": {
      "image/png": "[encoded data removed]",
      "text/plain": [
       "<matplotlib.figure.Figure at 0x1067029390>"
      ]
     },
     "metadata": {},
     "output_type": "display_data"
    },
    {
     "data": {
      "text/html": [
       "<style  type=\"text/css\" >\n",
       "</style>  \n",
       "<table id=\"T_08c42f24_a880_11e7_ab16_38eaa7ddbe28\" > \n",
       "<thead>    <tr> \n",
       "        <th class=\"blank level0\" ></th> \n",
       "        <th class=\"col_heading level0 col0\" >Count</th> \n",
       "        <th class=\"col_heading level0 col1\" >Max</th> \n",
       "        <th class=\"col_heading level0 col2\" >Mean</th> \n",
       "        <th class=\"col_heading level0 col3\" >Min</th> \n",
       "        <th class=\"col_heading level0 col4\" >Std</th> \n",
       "    </tr></thead> \n",
       "<tbody>    <tr> \n",
       "        <th id=\"T_08c42f24_a880_11e7_ab16_38eaa7ddbe28\" class=\"row_heading level0 row0\" >Did not Excercise in the last week</th> \n",
       "        <td id=\"T_08c42f24_a880_11e7_ab16_38eaa7ddbe28row0_col0\" class=\"data row0 col0\" >3663</td> \n",
       "        <td id=\"T_08c42f24_a880_11e7_ab16_38eaa7ddbe28row0_col1\" class=\"data row0 col1\" >66.6</td> \n",
       "        <td id=\"T_08c42f24_a880_11e7_ab16_38eaa7ddbe28row0_col2\" class=\"data row0 col2\" >28.97</td> \n",
       "        <td id=\"T_08c42f24_a880_11e7_ab16_38eaa7ddbe28row0_col3\" class=\"data row0 col3\" >13.5</td> \n",
       "        <td id=\"T_08c42f24_a880_11e7_ab16_38eaa7ddbe28row0_col4\" class=\"data row0 col4\" >6.83</td> \n",
       "    </tr>    <tr> \n",
       "        <th id=\"T_08c42f24_a880_11e7_ab16_38eaa7ddbe28\" class=\"row_heading level0 row1\" >Excercised in the last week</th> \n",
       "        <td id=\"T_08c42f24_a880_11e7_ab16_38eaa7ddbe28row1_col0\" class=\"data row1 col0\" >6403</td> \n",
       "        <td id=\"T_08c42f24_a880_11e7_ab16_38eaa7ddbe28row1_col1\" class=\"data row1 col1\" >76.2</td> \n",
       "        <td id=\"T_08c42f24_a880_11e7_ab16_38eaa7ddbe28row1_col2\" class=\"data row1 col2\" >27.21</td> \n",
       "        <td id=\"T_08c42f24_a880_11e7_ab16_38eaa7ddbe28row1_col3\" class=\"data row1 col3\" >13.3</td> \n",
       "        <td id=\"T_08c42f24_a880_11e7_ab16_38eaa7ddbe28row1_col4\" class=\"data row1 col4\" >5.77</td> \n",
       "    </tr></tbody> \n",
       "</table> "
      ],
      "text/plain": [
       "<pandas.io.formats.style.Styler at 0x10676a5e48>"
      ]
     },
     "execution_count": 7,
     "metadata": {},
     "output_type": "execute_result"
    }
   ],
   "source": [
    "#Is there a significant effect on BMI for people who excercise vs people who dont?\n",
    "#Excercise (EUEXCERCISE)\n",
    "exer_yes= (results[(results.EUEXERCISE == 1)])\n",
    "#print(exer_yes.describe())\n",
    "exer_no = (results[(results.EUEXERCISE == 2)])\n",
    "#print(exer_no.describe())\n",
    "\n",
    "plt.hist(exer_yes.ERBMI, bins =100, label='Excercised in the Last 7 Days')\n",
    "plt.hist(exer_no.ERBMI, bins=100, label=\"Did Not Excercise in the Last 7 Days\", color = 'Red')\n",
    "plt.title('BMI Distribution by Excercise at Two Levels')\n",
    "#plt.xlabel=('BMI')\n",
    "#plt.ylabel=('Frequency')\n",
    "plt.legend(loc='upper right')\n",
    "plt.show()\n",
    "\n",
    "excer = {\n",
    "    'Count':{\"Excercised in the last week\":6403,'Did not Excercise in the last week':3663},\n",
    "    'Mean':{\"Excercised in the last week\":27.21,'Did not Excercise in the last week':28.97},\n",
    "    'Std':{\"Excercised in the last week\":5.77,'Did not Excercise in the last week':6.83},\n",
    "    'Min':{\"Excercised in the last week\":13.3,'Did not Excercise in the last week':13.5},\n",
    "    'Max':{\"Excercised in the last week\":76.2,'Did not Excercise in the last week':66.6}}\n",
    "\n",
    "excer_df = pd.DataFrame(excer)\n",
    "excer_df.style\n"
   ]
  },
  {
   "cell_type": "code",
   "execution_count": 8,
   "metadata": {},
   "outputs": [
    {
     "data": {
      "image/png": "[encoded data removed]",
      "text/plain": [
       "<matplotlib.figure.Figure at 0x10676a0198>"
      ]
     },
     "metadata": {},
     "output_type": "display_data"
    },
    {
     "data": {
      "text/html": [
       "<style  type=\"text/css\" >\n",
       "</style>  \n",
       "<table id=\"T_09ab8562_a880_11e7_a0dd_38eaa7ddbe28\" > \n",
       "<thead>    <tr> \n",
       "        <th class=\"blank level0\" ></th> \n",
       "        <th class=\"col_heading level0 col0\" >Count</th> \n",
       "        <th class=\"col_heading level0 col1\" >Max</th> \n",
       "        <th class=\"col_heading level0 col2\" >Mean</th> \n",
       "        <th class=\"col_heading level0 col3\" >Min</th> \n",
       "        <th class=\"col_heading level0 col4\" >Std</th> \n",
       "    </tr></thead> \n",
       "<tbody>    <tr> \n",
       "        <th id=\"T_09ab8562_a880_11e7_a0dd_38eaa7ddbe28\" class=\"row_heading level0 row0\" >Excellent Health</th> \n",
       "        <td id=\"T_09ab8562_a880_11e7_a0dd_38eaa7ddbe28row0_col0\" class=\"data row0 col0\" >1797</td> \n",
       "        <td id=\"T_09ab8562_a880_11e7_a0dd_38eaa7ddbe28row0_col1\" class=\"data row0 col1\" >58</td> \n",
       "        <td id=\"T_09ab8562_a880_11e7_a0dd_38eaa7ddbe28row0_col2\" class=\"data row0 col2\" >24.97</td> \n",
       "        <td id=\"T_09ab8562_a880_11e7_a0dd_38eaa7ddbe28row0_col3\" class=\"data row0 col3\" >14.3</td> \n",
       "        <td id=\"T_09ab8562_a880_11e7_a0dd_38eaa7ddbe28row0_col4\" class=\"data row0 col4\" >4.37</td> \n",
       "    </tr>    <tr> \n",
       "        <th id=\"T_09ab8562_a880_11e7_a0dd_38eaa7ddbe28\" class=\"row_heading level0 row1\" >Not Excellent Health</th> \n",
       "        <td id=\"T_09ab8562_a880_11e7_a0dd_38eaa7ddbe28row1_col0\" class=\"data row1 col0\" >8274</td> \n",
       "        <td id=\"T_09ab8562_a880_11e7_a0dd_38eaa7ddbe28row1_col1\" class=\"data row1 col1\" >76.2</td> \n",
       "        <td id=\"T_09ab8562_a880_11e7_a0dd_38eaa7ddbe28row1_col2\" class=\"data row1 col2\" >28.48</td> \n",
       "        <td id=\"T_09ab8562_a880_11e7_a0dd_38eaa7ddbe28row1_col3\" class=\"data row1 col3\" >13.3</td> \n",
       "        <td id=\"T_09ab8562_a880_11e7_a0dd_38eaa7ddbe28row1_col4\" class=\"data row1 col4\" >6.4</td> \n",
       "    </tr></tbody> \n",
       "</table> "
      ],
      "text/plain": [
       "<pandas.io.formats.style.Styler at 0x1067240358>"
      ]
     },
     "execution_count": 8,
     "metadata": {},
     "output_type": "execute_result"
    }
   ],
   "source": [
    "#Is there a significant effect on BMI for people with excellent health condition vs others\n",
    "#Health condition (EUGENHTH)\n",
    "health_excel = (results[(results.EUGENHTH == 1)])\n",
    "#print(health_excel.describe())\n",
    "health_not_excel = (results[(results.EUGENHTH != 1)])\n",
    "#print(health_not_excel.describe())\n",
    "\n",
    "\n",
    "plt.hist(health_not_excel.ERBMI, bins =100, label='Less than Excellent Health')\n",
    "plt.hist(health_excel.ERBMI, bins=100, label=\"Excellent Health\", color = 'skyblue')\n",
    "plt.title('BMI Distribution by Health at Two Levels')\n",
    "#plt.xlabel=('BMI')\n",
    "#plt.ylabel=('Frequency')\n",
    "plt.legend(loc='upper right')\n",
    "plt.show()\n",
    "\n",
    "health = {\n",
    "    'Count':{'Excellent Health':1797, 'Not Excellent Health':8274},\n",
    "    'Mean':{'Excellent Health':24.97,'Not Excellent Health':28.48},\n",
    "    'Std':{'Excellent Health':4.37,'Not Excellent Health':6.4},\n",
    "    'Min':{'Excellent Health':14.3,'Not Excellent Health':13.3},\n",
    "    'Max':{'Excellent Health':58.0,'Not Excellent Health':76.2}}\n",
    "\n",
    "health_df = pd.DataFrame(health)\n",
    "health_df.style"
   ]
  },
  {
   "cell_type": "code",
   "execution_count": 9,
   "metadata": {},
   "outputs": [
    {
     "data": {
      "image/png": "[encoded data removed]",
      "text/plain": [
       "<matplotlib.figure.Figure at 0x106776cf60>"
      ]
     },
     "metadata": {},
     "output_type": "display_data"
    },
    {
     "data": {
      "text/html": [
       "<style  type=\"text/css\" >\n",
       "</style>  \n",
       "<table id=\"T_0ab1127a_a880_11e7_9803_38eaa7ddbe28\" > \n",
       "<thead>    <tr> \n",
       "        <th class=\"blank level0\" ></th> \n",
       "        <th class=\"col_heading level0 col0\" >Count</th> \n",
       "        <th class=\"col_heading level0 col1\" >Max</th> \n",
       "        <th class=\"col_heading level0 col2\" >Mean</th> \n",
       "        <th class=\"col_heading level0 col3\" >Min</th> \n",
       "        <th class=\"col_heading level0 col4\" >Std</th> \n",
       "    </tr></thead> \n",
       "<tbody>    <tr> \n",
       "        <th id=\"T_0ab1127a_a880_11e7_9803_38eaa7ddbe28\" class=\"row_heading level0 row0\" >High Income</th> \n",
       "        <td id=\"T_0ab1127a_a880_11e7_9803_38eaa7ddbe28row0_col0\" class=\"data row0 col0\" >6467</td> \n",
       "        <td id=\"T_0ab1127a_a880_11e7_9803_38eaa7ddbe28row0_col1\" class=\"data row0 col1\" >63.3</td> \n",
       "        <td id=\"T_0ab1127a_a880_11e7_9803_38eaa7ddbe28row0_col2\" class=\"data row0 col2\" >27.37</td> \n",
       "        <td id=\"T_0ab1127a_a880_11e7_9803_38eaa7ddbe28row0_col3\" class=\"data row0 col3\" >13.3</td> \n",
       "        <td id=\"T_0ab1127a_a880_11e7_9803_38eaa7ddbe28row0_col4\" class=\"data row0 col4\" >5.81</td> \n",
       "    </tr>    <tr> \n",
       "        <th id=\"T_0ab1127a_a880_11e7_9803_38eaa7ddbe28\" class=\"row_heading level0 row1\" >Not High Income</th> \n",
       "        <td id=\"T_0ab1127a_a880_11e7_9803_38eaa7ddbe28row1_col0\" class=\"data row1 col0\" >3604</td> \n",
       "        <td id=\"T_0ab1127a_a880_11e7_9803_38eaa7ddbe28row1_col1\" class=\"data row1 col1\" >76.2</td> \n",
       "        <td id=\"T_0ab1127a_a880_11e7_9803_38eaa7ddbe28row1_col2\" class=\"data row1 col2\" >28.7</td> \n",
       "        <td id=\"T_0ab1127a_a880_11e7_9803_38eaa7ddbe28row1_col3\" class=\"data row1 col3\" >13.5</td> \n",
       "        <td id=\"T_0ab1127a_a880_11e7_9803_38eaa7ddbe28row1_col4\" class=\"data row1 col4\" >6.87</td> \n",
       "    </tr></tbody> \n",
       "</table> "
      ],
      "text/plain": [
       "<pandas.io.formats.style.Styler at 0x1067b8b860>"
      ]
     },
     "execution_count": 9,
     "metadata": {},
     "output_type": "execute_result"
    }
   ],
   "source": [
    "#Is there a correlation between high BMI and Households whose income is high?\n",
    "#Household Income (EEINCOME1)\n",
    "income_high = (results[(results.EEINCOME1 == 1)])\n",
    "#print(income_high.describe())\n",
    "income_not_high = (results[(results.EEINCOME1 != 1)])\n",
    "#print(income_not_high.describe())\n",
    "\n",
    "plt.hist(income_high.ERBMI, bins=100, label=\"Income High\", color = 'green')\n",
    "plt.hist(income_not_high.ERBMI, bins=100, label= \"Income Not High\", color = 'magenta')\n",
    "plt.title('BMI Distribution by Income at Two Levels')\n",
    "#plt.xlabel=('BMI')\n",
    "#plt.ylabel=(\"N occurances\")\n",
    "plt.legend(loc='upper right')\n",
    "plt.show()\n",
    "\n",
    "income ={\n",
    "    'Count':{\"High Income\":6467,'Not High Income':3604},\n",
    "    'Mean':{\"High Income\":27.37,'Not High Income':28.70},\n",
    "    'Std':{\"High Income\":5.81,'Not High Income':6.87},\n",
    "    'Max':{\"High Income\":63.30,'Not High Income':76.2},\n",
    "    'Min':{\"High Income\":13.3,'Not High Income':13.5}}\n",
    "income_df = pd.DataFrame(income)\n",
    "income_df.style\n"
   ]
  },
  {
   "cell_type": "code",
   "execution_count": 10,
   "metadata": {},
   "outputs": [
    {
     "data": {
      "image/png": "[encoded data removed]",
      "text/plain": [
       "<matplotlib.figure.Figure at 0x1067c09b00>"
      ]
     },
     "metadata": {},
     "output_type": "display_data"
    },
    {
     "data": {
      "text/html": [
       "<style  type=\"text/css\" >\n",
       "</style>  \n",
       "<table id=\"T_0b9f6db6_a880_11e7_875a_38eaa7ddbe28\" > \n",
       "<thead>    <tr> \n",
       "        <th class=\"blank level0\" ></th> \n",
       "        <th class=\"col_heading level0 col0\" >Count</th> \n",
       "        <th class=\"col_heading level0 col1\" >Max</th> \n",
       "        <th class=\"col_heading level0 col2\" >Mean</th> \n",
       "        <th class=\"col_heading level0 col3\" >Min</th> \n",
       "        <th class=\"col_heading level0 col4\" >Std</th> \n",
       "    </tr></thead> \n",
       "<tbody>    <tr> \n",
       "        <th id=\"T_0b9f6db6_a880_11e7_875a_38eaa7ddbe28\" class=\"row_heading level0 row0\" >Intial Survey Data</th> \n",
       "        <td id=\"T_0b9f6db6_a880_11e7_875a_38eaa7ddbe28row0_col0\" class=\"data row0 col0\" >10626</td> \n",
       "        <td id=\"T_0b9f6db6_a880_11e7_875a_38eaa7ddbe28row0_col1\" class=\"data row0 col1\" >76.2</td> \n",
       "        <td id=\"T_0b9f6db6_a880_11e7_875a_38eaa7ddbe28row0_col2\" class=\"data row0 col2\" >26.34</td> \n",
       "        <td id=\"T_0b9f6db6_a880_11e7_875a_38eaa7ddbe28row0_col3\" class=\"data row0 col3\" >-1</td> \n",
       "        <td id=\"T_0b9f6db6_a880_11e7_875a_38eaa7ddbe28row0_col4\" class=\"data row0 col4\" >8.83</td> \n",
       "    </tr>    <tr> \n",
       "        <th id=\"T_0b9f6db6_a880_11e7_875a_38eaa7ddbe28\" class=\"row_heading level0 row1\" >Our \"Cleaned\" Data</th> \n",
       "        <td id=\"T_0b9f6db6_a880_11e7_875a_38eaa7ddbe28row1_col0\" class=\"data row1 col0\" >10071</td> \n",
       "        <td id=\"T_0b9f6db6_a880_11e7_875a_38eaa7ddbe28row1_col1\" class=\"data row1 col1\" >76.23</td> \n",
       "        <td id=\"T_0b9f6db6_a880_11e7_875a_38eaa7ddbe28row1_col2\" class=\"data row1 col2\" >27.85</td> \n",
       "        <td id=\"T_0b9f6db6_a880_11e7_875a_38eaa7ddbe28row1_col3\" class=\"data row1 col3\" >13.29</td> \n",
       "        <td id=\"T_0b9f6db6_a880_11e7_875a_38eaa7ddbe28row1_col4\" class=\"data row1 col4\" >6.24</td> \n",
       "    </tr></tbody> \n",
       "</table> "
      ],
      "text/plain": [
       "<pandas.io.formats.style.Styler at 0x106733bc18>"
      ]
     },
     "execution_count": 10,
     "metadata": {},
     "output_type": "execute_result"
    }
   ],
   "source": [
    "#height is in inches multiply by 0.0254 for meters\n",
    "height_test = (results.EUHGT * 0.0254)\n",
    "\n",
    "# weight is in pounds  multiply by 0.453592\n",
    "weight_test = (results.EUWGT * 0.45359237000000013)\n",
    "\n",
    "#bmi formula 'BMI is your weight (in kilograms) over your height squared meters\n",
    "bmi_test = (weight_test / (height_test * height_test))\n",
    "#print(bmi_test.describe())\n",
    "#print(source_data['ERBMI'].describe())\n",
    "\n",
    "plt.hist(source_data['ERBMI'], bins=100, label=\"Survey BMI\", color = 'Red')\n",
    "plt.hist(bmi_test, bins =100, label='Our BMI')\n",
    "plt.title('Survey BMI Versus Experimental BMI')\n",
    "plt.legend(loc='upper right')\n",
    "plt.show()\n",
    "\n",
    "BMIQ = {\n",
    "    'Count':{'Our \"Cleaned\" Data':10071,'Intial Survey Data':10626},\n",
    "    'Mean':{'Our \"Cleaned\" Data':27.85,'Intial Survey Data':26.34},\n",
    "    'Std':{'Our \"Cleaned\" Data':6.24,'Intial Survey Data':8.83},\n",
    "    'Max':{'Our \"Cleaned\" Data': 76.23, 'Intial Survey Data':76.20},\n",
    "    'Min':{'Our \"Cleaned\" Data':13.29,'Intial Survey Data':-1 }}\n",
    "BMIQ_df = pd.DataFrame(BMIQ)\n",
    "BMIQ_df.style"
   ]
  },
  {
   "cell_type": "markdown",
   "metadata": {},
   "source": [
    "#K Clusters"
   ]
  },
  {
   "cell_type": "code",
   "execution_count": 11,
   "metadata": {
    "collapsed": true
   },
   "outputs": [],
   "source": [
    "#print(results['EUHGT'])\n",
    "#plt.scatter(\n",
    "   # [results.ERBMI], #X height\n",
    "   #[results.EUHGT],\n",
    "#s=1) #Y Weight\n",
    "    \n",
    "    \n",
    "#plt.show()\n",
    "#f1 = results['EUHGT']\n",
    "#f2 = results['EUWGT']\n",
    "\n",
    "#X=np.matrix(zip(f1,f2))\n",
    "#kmeans = KMeans(n_clusters=2).fit(X)"
   ]
  },
  {
   "cell_type": "code",
   "execution_count": null,
   "metadata": {
    "collapsed": true
   },
   "outputs": [],
   "source": []
  },
  {
   "cell_type": "code",
   "execution_count": null,
   "metadata": {
    "collapsed": true
   },
   "outputs": [],
   "source": []
  }
 ],
 "metadata": {
  "kernelspec": {
   "display_name": "Python 3",
   "language": "python",
   "name": "python3"
  },
  "language_info": {
   "codemirror_mode": {
    "name": "ipython",
    "version": 3
   },
   "file_extension": ".py",
   "mimetype": "text/x-python",
   "name": "python",
   "nbconvert_exporter": "python",
   "pygments_lexer": "ipython3",
   "version": "3.6.1"
  }
 },
 "nbformat": 4,
 "nbformat_minor": 2
}
