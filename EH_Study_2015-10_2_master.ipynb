{
 "cells": [
  {
   "cell_type": "markdown",
   "metadata": {},
   "source": [
    "# The Stags - Health Stats Part 5"
   ]
  },
  {
   "cell_type": "markdown",
   "metadata": {},
   "source": [
    "###### Data Source : 2015 US Department of Labour "
   ]
  },
  {
   "cell_type": "markdown",
   "metadata": {},
   "source": [
    "##### Research Questions to be answered\n",
    "1. Is there a significant effect on drinking beverages other than water on BMI?\n",
    "2. Is there a significant difference in BMI between diet soda consumers and regular soda consumers?\n",
    "3. Is there a significant difference in the BMI of diet soda consumers versus global consumers minus diet soda, and regular soda consumers versus global consumers minus regular soda? \n",
    "4. Is there a significant effect on BMI for people who excercise vs people who dont?\n",
    "5. Is there a significant effect on BMI for people with excellent health condition vs others\n",
    "6. Is there a correlation between BMI and time spent eating? \n",
    "7. Is there a correlation between high BMI and Households whose income is high?\n",
    "\n",
    "\n",
    "###### Key columns in Dataset\n",
    "\n",
    "1. Body Mass Index (BMI)\n",
    "2. Diet, Regular, or Both Soda (EUDIETSODA)\n",
    "3. Cola Beverages (EUSODA)\n",
    "4. Household Income (EEINCOME1)\n",
    "5. Total amount of time spent in secondary eating (in minutes) (ERTPREAT)\n",
    "6. Excercise (EUEXCERCISE)\n",
    "7. Health condition (EUGENHTH)"
   ]
  },
  {
   "cell_type": "code",
   "execution_count": 1,
   "metadata": {
    "collapsed": true
   },
   "outputs": [],
   "source": [
    "# Package install\n",
    "%matplotlib inline \n",
    "# Import modules!\n",
    "import numpy as np\n",
    "import pandas as pd\n",
    "import matplotlib.pyplot as plt\n",
    "\n",
    "# Data import/loading!\n",
    "source_data = pd.read_csv('ehresp_2015.csv')"
   ]
  },
  {
   "cell_type": "code",
   "execution_count": 2,
   "metadata": {},
   "outputs": [],
   "source": [
    "#Create new DataFrame \"Results\" and add the key columns to dataset\n",
    "\n",
    "results = pd.DataFrame(source_data['ERBMI'])\n",
    "results['EUHGT'] = source_data['EUHGT'] \n",
    "results['EUWGT'] = source_data['EUWGT']\n",
    "results['EUDIETSODA'] = source_data['EUDIETSODA']\n",
    "results['EUSODA'] = source_data['EUSODA']\n",
    "results['EEINCOME1'] = source_data['EEINCOME1'] \n",
    "results['ERTPREAT'] = source_data['ERTPREAT'] #Total amount of time spent in primary eating and drinking (in minutes)\n",
    "results['EUEXERCISE'] = source_data['EUEXERCISE']\n",
    "results['EUGENHTH'] = source_data['EUGENHTH']\n",
    "#print(results)\n",
    "results_clean = (results[(results.EUWGT > 0) & (results.EUHGT > 0) & (results.ERBMI > 0)])\n",
    "results = results_clean"
   ]
  },
  {
   "cell_type": "code",
   "execution_count": 3,
   "metadata": {},
   "outputs": [],
   "source": [
    "#height is in inches multiply by 0.0254 for meters\n",
    "height_test = (results.EUHGT * 0.0254)\n",
    "\n",
    "# weight is in pounds  multiply by 0.453592\n",
    "weight_test = (results.EUWGT * 0.45359237000000013)\n",
    "\n",
    "#bmi formula 'BMI is your weight (in kilograms) over your height squared meters\n",
    "bmi_test = (weight_test / (height_test * height_test))\n"
   ]
  },
  {
   "cell_type": "code",
   "execution_count": 4,
   "metadata": {},
   "outputs": [
    {
     "data": {
      "image/png": "[encoded data removed]",
      "text/plain": [
       "<matplotlib.figure.Figure at 0xa235526828>"
      ]
     },
     "metadata": {},
     "output_type": "display_data"
    }
   ],
   "source": [
    "#BMI distribution\n",
    "plt.hist(results.ERBMI, bins=100)\n",
    "plt.xlabel('BMI')\n",
    "plt.show()"
   ]
  },
  {
   "cell_type": "code",
   "execution_count": 5,
   "metadata": {},
   "outputs": [],
   "source": [
    "#Diet, Regular, or Both Soda (EUDIETSODA)\n",
    "soda_diet = (results[(results.EUDIETSODA == 1)])\n",
    "#print(soda_diet.describe())\n",
    "soda_reg = (results[(results.EUDIETSODA == 2)])\n",
    "#print(soda_reg.describe())\n",
    "soda_both = (results[(results.EUDIETSODA == 3)])\n",
    "#print(soda_both.describe())"
   ]
  },
  {
   "cell_type": "code",
   "execution_count": 6,
   "metadata": {},
   "outputs": [],
   "source": [
    "#Is there a significant effect on BMI for people who excercise vs people who dont?\n",
    "#Excercise (EUEXCERCISE)\n",
    "exer_yes = (results[(results.EUEXERCISE == 1)])\n",
    "#print(exer_yes.describe())\n",
    "exer_no = (results[(results.EUEXERCISE == 2)])\n",
    "#print(exer_no.describe())"
   ]
  },
  {
   "cell_type": "code",
   "execution_count": 43,
   "metadata": {},
   "outputs": [
    {
     "data": {
      "image/png": "[encoded data removed]",
      "text/plain": [
       "<matplotlib.figure.Figure at 0xa23995c780>"
      ]
     },
     "metadata": {},
     "output_type": "display_data"
    }
   ],
   "source": [
    "#Is there a significant effect on BMI for people with excellent health condition vs others\n",
    "#Health condition (EUGENHTH)\n",
    "health_excel = (results[(results.EUGENHTH == 1)])\n",
    "#print(health_excel.describe())\n",
    "health_not_excel = (results[(results.EUGENHTH != 1)])\n",
    "#print(health_not_excel.describe())\n",
    "\n",
    "\n",
    "plt.hist(health_not_excel.ERBMI, bins =100, label='Less than Excellent Health')\n",
    "plt.hist(health_excel.ERBMI, bins=100, label=\"Excellent Health\", color = 'skyblue')\n",
    "plt.title('BMI Distribution by Health at Two Levels')\n",
    "plt.xlabel=('BMI')\n",
    "plt.ylabel=('Frequency')\n",
    "plt.legend(loc='upper right')\n",
    "plt.show()"
   ]
  },
  {
   "cell_type": "code",
   "execution_count": 30,
   "metadata": {},
   "outputs": [
    {
     "data": {
      "image/png": "[encoded data removed]",
      "text/plain": [
       "<matplotlib.figure.Figure at 0xa2399bf048>"
      ]
     },
     "metadata": {},
     "output_type": "display_data"
    }
   ],
   "source": [
    "#Is there a correlation between high BMI and Households whose income is high?\n",
    "#Household Income (EEINCOME1)\n",
    "income_high = (results[(results.EEINCOME1 == 1)])\n",
    "#print(income_high.describe())\n",
    "income_not_high = (results[(results.EEINCOME1 != 1)])\n",
    "#print(income_not_high.describe())\n",
    "\n",
    "plt.hist(income_high.ERBMI, bins=100, label=\"income_high\", color = 'green')\n",
    "plt.hist(income_not_high.ERBMI, bins=100, label= \"income_not_high\", color = 'magenta')\n",
    "plt.title('BMI Distribution by Income at Two Levels')\n",
    "plt.xlabel=('BMI')\n",
    "plt.ylabel=(\"N occurances\")\n",
    "plt.legend(loc='upper right')\n",
    "plt.show()"
   ]
  },
  {
   "cell_type": "code",
   "execution_count": null,
   "metadata": {
    "collapsed": true
   },
   "outputs": [],
   "source": []
  }
 ],
 "metadata": {
  "kernelspec": {
   "display_name": "Python 3",
   "language": "python",
   "name": "python3"
  },
  "language_info": {
   "codemirror_mode": {
    "name": "ipython",
    "version": 3
   },
   "file_extension": ".py",
   "mimetype": "text/x-python",
   "name": "python",
   "nbconvert_exporter": "python",
   "pygments_lexer": "ipython3",
   "version": "3.6.1"
  }
 },
 "nbformat": 4,
 "nbformat_minor": 2
}
