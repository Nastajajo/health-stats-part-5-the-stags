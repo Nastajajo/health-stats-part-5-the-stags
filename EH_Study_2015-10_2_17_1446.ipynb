{
 "cells": [
  {
   "cell_type": "markdown",
   "metadata": {},
   "source": [
    "# The Stags - Health Stats Part 5"
   ]
  },
  {
   "cell_type": "markdown",
   "metadata": {},
   "source": [
    "###### Data Source : 2015 US Department of Labour "
   ]
  },
  {
   "cell_type": "markdown",
   "metadata": {},
   "source": [
    "##### Research Questions to be answered\n",
    "1. Is there a significant effect on drinking beverages other than water on BMI?\n",
    "2. Is there a significant difference in BMI between diet soda consumers and regular soda consumers?\n",
    "3. Is there a significant difference in the BMI of diet soda consumers versus global consumers minus diet soda, and regular soda consumers versus global consumers minus regular soda? \n",
    "4. Is there a significant effect on BMI for people who excercise vs people who dont?\n",
    "5. Is there a significant effect on BMI for people with excellent health condition vs others\n",
    "6. Is there a correlation between BMI and time spent eating? \n",
    "7. Is there a correlation between high BMI and Households whose income is high?\n",
    "\n",
    "\n",
    "###### Key columns in Dataset\n",
    "\n",
    "1. Body Mass Index (BMI)\n",
    "2. Diet, Regular, or Both Soda (EUDIETSODA)\n",
    "3. Cola Beverages (EUSODA)\n",
    "4. Household Income (EEINCOME1)\n",
    "5. Total amount of time spent in secondary eating (in minutes) (ERTPREAT)\n",
    "6. Excercise (EUEXCERCISE)\n",
    "7. Health condition (EUGENHTH)"
   ]
  },
  {
   "cell_type": "code",
   "execution_count": 1,
   "metadata": {
    "collapsed": true
   },
   "outputs": [],
   "source": [
    "# Package install\n",
    "%matplotlib inline \n",
    "# Import modules!\n",
    "import numpy as np\n",
    "import pandas as pd\n",
    "import matplotlib.pyplot as plt\n",
    "\n",
    "# Data import/loading!\n",
    "source_data = pd.read_csv('ehresp_2015.csv')"
   ]
  },
  {
   "cell_type": "code",
   "execution_count": 2,
   "metadata": {},
   "outputs": [],
   "source": [
    "#Create new DataFrame \"Results\" and add the key columns to dataset\n",
    "\n",
    "results = pd.DataFrame(source_data['ERBMI'])\n",
    "results['EUHGT'] = source_data['EUHGT'] \n",
    "results['EUWGT'] = source_data['EUWGT']\n",
    "results['EUDIETSODA'] = source_data['EUDIETSODA']\n",
    "results['EUSODA'] = source_data['EUSODA']\n",
    "results['EEINCOME1'] = source_data['EEINCOME1'] \n",
    "results['ERTPREAT'] = source_data['ERTPREAT'] #Total amount of time spent in primary eating and drinking (in minutes)\n",
    "results['EUEXERCISE'] = source_data['EUEXERCISE']\n",
    "results['EUGENHTH'] = source_data['EUGENHTH']\n",
    "#print(results)\n",
    "results_clean = (results[(results.EUWGT > 0) & (results.EUHGT > 0) & (results.ERBMI > 0)])\n",
    "results = results_clean"
   ]
  },
  {
   "cell_type": "code",
   "execution_count": 3,
   "metadata": {},
   "outputs": [],
   "source": [
    "#height is in inches multiply by 0.0254 for meters\n",
    "height_test = (results.EUHGT * 0.0254)\n",
    "\n",
    "# weight is in pounds  multiply by 0.453592\n",
    "weight_test = (results.EUWGT * 0.45359237000000013)\n",
    "\n",
    "#bmi formula 'BMI is your weight (in kilograms) over your height squared meters\n",
    "bmi_test = (weight_test / (height_test * height_test))\n"
   ]
  },
  {
   "cell_type": "code",
   "execution_count": 4,
   "metadata": {},
   "outputs": [
    {
     "data": {
      "image/png": "[encoded data removed]",
      "text/plain": [
       "<matplotlib.figure.Figure at 0xa235526828>"
      ]
     },
     "metadata": {},
     "output_type": "display_data"
    }
   ],
   "source": [
    "#BMI distribution\n",
    "plt.hist(results.ERBMI, bins=100)\n",
    "plt.xlabel('BMI')\n",
    "plt.show()"
   ]
  },
  {
   "cell_type": "code",
   "execution_count": 5,
   "metadata": {},
   "outputs": [],
   "source": [
    "#Diet, Regular, or Both Soda (EUDIETSODA)\n",
    "soda_diet = (results[(results.EUDIETSODA == 1)])\n",
    "#print(soda_diet.describe())\n",
    "soda_reg = (results[(results.EUDIETSODA == 2)])\n",
    "#print(soda_reg.describe())\n",
    "soda_both = (results[(results.EUDIETSODA == 3)])\n",
    "#print(soda_both.describe())"
   ]
  },
  {
   "cell_type": "code",
   "execution_count": 6,
   "metadata": {},
   "outputs": [],
   "source": [
    "#Is there a significant effect on BMI for people who excercise vs people who dont?\n",
    "#Excercise (EUEXCERCISE)\n",
    "exer_yes = (results[(results.EUEXERCISE == 1)])\n",
    "#print(exer_yes.describe())\n",
    "exer_no = (results[(results.EUEXERCISE == 2)])\n",
    "#print(exer_no.describe())"
   ]
  },
  {
   "cell_type": "code",
   "execution_count": 7,
   "metadata": {},
   "outputs": [],
   "source": [
    "#Is there a significant effect on BMI for people with excellent health condition vs others\n",
    "#Health condition (EUGENHTH)\n",
    "health_excel = (results[(results.EUGENHTH == 1)])\n",
    "#print(health_excel.describe())\n",
    "health_not_excel = (results[(results.EUGENHTH != 1)])\n",
    "#print(health_not_excel.describe())"
   ]
  },
  {
   "cell_type": "code",
   "execution_count": 9,
   "metadata": {},
   "outputs": [
    {
     "name": "stdout",
     "output_type": "stream",
     "text": [
      "             ERBMI        EUHGT        EUWGT   EUDIETSODA       EUSODA  \\\n",
      "count  6467.000000  6467.000000  6467.000000  6467.000000  6467.000000   \n",
      "mean     27.376001    67.210453   176.804701    -0.382248     0.823257   \n",
      "std       5.805961     4.042738    43.956996     1.142160     1.292689   \n",
      "min      13.300000    56.000000    98.000000    -2.000000    -2.000000   \n",
      "25%      23.400000    64.000000   145.000000    -1.000000    -1.000000   \n",
      "50%      26.400000    67.000000   170.000000    -1.000000     1.000000   \n",
      "75%      30.300000    70.000000   200.000000    -1.000000     2.000000   \n",
      "max      63.300000    77.000000   340.000000     3.000000     2.000000   \n",
      "\n",
      "       EEINCOME1     ERTPREAT   EUEXERCISE     EUGENHTH  \n",
      "count     6467.0  6467.000000  6467.000000  6467.000000  \n",
      "mean         1.0    68.775012     1.311737     2.282666  \n",
      "std          0.0    50.530642     0.467228     0.969476  \n",
      "min          1.0     0.000000    -2.000000    -2.000000  \n",
      "25%          1.0    30.000000     1.000000     2.000000  \n",
      "50%          1.0    60.000000     1.000000     2.000000  \n",
      "75%          1.0    90.000000     2.000000     3.000000  \n",
      "max          1.0   765.000000     2.000000     5.000000  \n",
      "             ERBMI        EUHGT        EUWGT   EUDIETSODA       EUSODA  \\\n",
      "count  3604.000000  3604.000000  3604.000000  3604.000000  3604.000000   \n",
      "mean     28.702026    65.869034   177.577137    -0.311598     0.561598   \n",
      "std       6.867140     4.107702    46.783620     1.222088     1.324980   \n",
      "min      13.500000    56.000000    98.000000    -1.000000    -2.000000   \n",
      "25%      23.900000    63.000000   145.000000    -1.000000    -1.000000   \n",
      "50%      27.500000    66.000000   170.000000    -1.000000     1.000000   \n",
      "75%      32.100000    69.000000   200.000000    -1.000000     2.000000   \n",
      "max      76.200000    77.000000   340.000000     3.000000     2.000000   \n",
      "\n",
      "         EEINCOME1     ERTPREAT   EUEXERCISE     EUGENHTH  \n",
      "count  3604.000000  3604.000000  3604.000000  3604.000000  \n",
      "mean      1.903996    60.626526     1.452830     2.801609  \n",
      "std       1.061629    46.703300     0.507775     1.226404  \n",
      "min      -3.000000     0.000000    -2.000000    -2.000000  \n",
      "25%       2.000000    30.000000     1.000000     2.000000  \n",
      "50%       2.000000    51.000000     1.000000     3.000000  \n",
      "75%       2.000000    86.750000     2.000000     4.000000  \n",
      "max       3.000000   430.000000     2.000000     5.000000  \n"
     ]
    }
   ],
   "source": [
    "#Is there a correlation between high BMI and Households whose income is high?\n",
    "#Household Income (EEINCOME1)\n",
    "income_high = (results[(results.EEINCOME1 == 1)])\n",
    "print(income_high.describe())\n",
    "income_not_high = (results[(results.EEINCOME1 != 1)])\n",
    "print(income_not_high.describe())"
   ]
  },
  {
   "cell_type": "code",
   "execution_count": null,
   "metadata": {
    "collapsed": true
   },
   "outputs": [],
   "source": []
  }
 ],
 "metadata": {
  "kernelspec": {
   "display_name": "Python 3",
   "language": "python",
   "name": "python3"
  },
  "language_info": {
   "codemirror_mode": {
    "name": "ipython",
    "version": 3
   },
   "file_extension": ".py",
   "mimetype": "text/x-python",
   "name": "python",
   "nbconvert_exporter": "python",
   "pygments_lexer": "ipython3",
   "version": "3.6.1"
  }
 },
 "nbformat": 4,
 "nbformat_minor": 2
}
