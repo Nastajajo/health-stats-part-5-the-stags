{
 "cells": [
  {
   "cell_type": "markdown",
   "metadata": {},
   "source": [
    "# The Stags - Health Stats Part 5"
   ]
  },
  {
   "cell_type": "markdown",
   "metadata": {},
   "source": [
    "###### Data Source : 2015 US Department of Labour "
   ]
  },
  {
   "cell_type": "markdown",
   "metadata": {},
   "source": [
    "##### Research Questions to be answered\n",
    "1. Is there a significant effect on drinking beverages other than water on BMI?\n",
    "2. Is there a significant difference in BMI between diet soda consumers and regular soda consumers?\n",
    "3. Is there a significant difference in the BMI of diet soda consumers versus global consumers minus diet soda, and regular soda consumers versus global consumers minus regular soda? \n",
    "4. Is there a significant effect on BMI for people who excercise vs people who dont?\n",
    "5. Is there a significant effect on BMI for people with excellent health condition vs others\n",
    "6. Is there a correlation between BMI and time spent eating? \n",
    "7. Is there a correlation between high BMI and Households whose income is high?\n",
    "\n",
    "\n",
    "###### Key columns in Dataset\n",
    "\n",
    "1. Body Mass Index (BMI)\n",
    "2. Diet, Regular, or Both Soda (EUDIETSODA)\n",
    "3. Cola Beverages (EUSODA)\n",
    "4. Household Income (EEINCOME1)\n",
    "5. Total amount of time spent in secondary eating (in minutes) (ERTPREAT)\n",
    "6. Excercise (EUEXCERCISE)\n",
    "7. Health condition (EUGENHTH)"
   ]
  },
  {
   "cell_type": "code",
   "execution_count": 1,
   "metadata": {
    "collapsed": true
   },
   "outputs": [],
   "source": [
    "# Package install\n",
    "%matplotlib inline \n",
    "# Import modules!\n",
    "import numpy as np\n",
    "import pandas as pd\n",
    "import matplotlib.pyplot as plt\n",
    "\n",
    "# Data import/loading!\n",
    "source_data = pd.read_csv('ehresp_2015.csv')"
   ]
  },
  {
   "cell_type": "code",
   "execution_count": 2,
   "metadata": {},
   "outputs": [],
   "source": [
    "#Create new DataFrame \"Results\" and add the key columns to dataset\n",
    "\n",
    "results = pd.DataFrame(source_data['ERBMI'])\n",
    "results['EUHGT'] = source_data['EUHGT']\n",
    "results['EUWGT'] = source_data['EUWGT']\n",
    "results['EUDIETSODA'] = source_data['EUDIETSODA']\n",
    "results['EUSODA'] = source_data['EUSODA']\n",
    "results['EEINCOME1'] = source_data['EEINCOME1'] \n",
    "results['ERTPREAT'] = source_data['ERTPREAT'] #Total amount of time spent in primary eating and drinking (in minutes)\n",
    "results['EUEXERCISE'] = source_data['EUEXERCISE']\n",
    "results['EUGENHTH'] = source_data['EUGENHTH']\n",
    "#print(results)"
   ]
  },
  {
   "cell_type": "code",
   "execution_count": 8,
   "metadata": {},
   "outputs": [
    {
     "name": "stdout",
     "output_type": "stream",
     "text": [
      "0        31.442808\n",
      "1        25.726864\n",
      "2        29.620422\n",
      "3        23.382492\n",
      "4        35.870868\n",
      "5        32.078134\n",
      "6        30.131529\n",
      "7        33.905720\n",
      "8        26.285714\n",
      "9        22.596341\n",
      "10       28.341938\n",
      "11       22.862546\n",
      "12       -0.430450\n",
      "13       31.365078\n",
      "14       26.581059\n",
      "15       21.789329\n",
      "16       29.523406\n",
      "17       25.109607\n",
      "18       29.264059\n",
      "19       27.866624\n",
      "20       25.318798\n",
      "21       -0.322805\n",
      "22       22.150882\n",
      "23       22.142511\n",
      "24       28.122760\n",
      "25       27.979277\n",
      "26       19.691097\n",
      "27       40.551241\n",
      "28       31.239883\n",
      "29       30.271027\n",
      "           ...    \n",
      "10596    23.618282\n",
      "10597    22.862546\n",
      "10598    19.529695\n",
      "10599    25.801977\n",
      "10600    28.342414\n",
      "10601    -0.499221\n",
      "10602    21.350927\n",
      "10603    24.547741\n",
      "10604    -0.469861\n",
      "10605    37.122560\n",
      "10606    27.120338\n",
      "10607    22.112134\n",
      "10608    29.649320\n",
      "10609    28.057784\n",
      "10610    33.472835\n",
      "10611    28.321872\n",
      "10612    31.455790\n",
      "10613    23.627608\n",
      "10614    21.133672\n",
      "10615    25.090233\n",
      "10616    22.889245\n",
      "10617    29.953236\n",
      "10618    27.368603\n",
      "10619    33.964686\n",
      "10620    25.747156\n",
      "10621    26.571013\n",
      "10622    24.210365\n",
      "10623    27.979277\n",
      "10624    41.385641\n",
      "10625    34.703049\n",
      "Length: 10626, dtype: float64\n",
      "count    10626.000000\n",
      "mean       229.346086\n",
      "std       2455.848984\n",
      "min       -878.836258\n",
      "25%         23.055889\n",
      "50%         26.532498\n",
      "75%         30.848946\n",
      "max      47457.157914\n",
      "dtype: float64\n"
     ]
    }
   ],
   "source": [
    "\n",
    "#print(height.describe())\n",
    "#height is in inches multiply by 0.0254 for meters\n",
    "height_test = (results.EUHGT * 0.0254)\n",
    "#print(height_test)\n",
    "#print(height_test.describe())\n",
    "# weight is in pounds  multiply by 0.453592\n",
    "weight_test = (results.EUWGT * 0.453592)\n",
    "#print(weight_test)\n",
    "#print(weight_test.describe())\n",
    "#bmi formula 'BMI is your weight (in kilograms) over your height squared meters\n",
    "bmi_test = (weight_test / (height_test * height_test))\n",
    "print(bmi_test)\n",
    "print(bmi_test.describe())\n",
    "#get desciptives\n",
    "#compare to ERBMI\n",
    "#print(results.ERBMI.describe())"
   ]
  },
  {
   "cell_type": "code",
   "execution_count": null,
   "metadata": {
    "collapsed": true
   },
   "outputs": [],
   "source": []
  }
 ],
 "metadata": {
  "kernelspec": {
   "display_name": "Python 3",
   "language": "python",
   "name": "python3"
  },
  "language_info": {
   "codemirror_mode": {
    "name": "ipython",
    "version": 3
   },
   "file_extension": ".py",
   "mimetype": "text/x-python",
   "name": "python",
   "nbconvert_exporter": "python",
   "pygments_lexer": "ipython3",
   "version": "3.6.1"
  }
 },
 "nbformat": 4,
 "nbformat_minor": 2
}
